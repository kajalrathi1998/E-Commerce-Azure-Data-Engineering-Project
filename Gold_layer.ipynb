{
 "cells": [
  {
   "cell_type": "code",
   "execution_count": 0,
   "metadata": {
    "application/vnd.databricks.v1+cell": {
     "cellMetadata": {
      "byteLimit": 2048000,
      "rowLimit": 10000
     },
     "inputWidgets": {},
     "nuid": "2b334726-f9e8-4e36-bb01-7925e853eb89",
     "showTitle": false,
     "tableResultSettingsMap": {},
     "title": ""
    }
   },
   "outputs": [],
   "source": [
    "from pyspark.sql import SparkSession\n",
    "from pyspark.sql.functions import sum, avg, col,monotonically_increasing_id \n",
    "\n",
    "spark = SparkSession.builder.appName(\"GoldLayerCreation\").getOrCreate()\n",
    "\n",
    "# Read the necessary Silver tables\n",
    "silver_sellers = spark.read.format(\"delta\").load(\"/mnt/delta/tables/silver/sellers\")\n",
    "silver_buyers = spark.read.format(\"delta\").load(\"/mnt/delta/tables/silver/buyers\")\n",
    "silver_users = spark.read.format(\"delta\").load(\"/mnt/delta/tables/silver/users\")\n",
    "silver_countries = spark.read.format(\"delta\").load(\"/mnt/delta/tables/silver/countries\")"
   ]
  },
  {
   "cell_type": "code",
   "execution_count": 0,
   "metadata": {
    "application/vnd.databricks.v1+cell": {
     "cellMetadata": {
      "byteLimit": 2048000,
      "rowLimit": 10000
     },
     "inputWidgets": {},
     "nuid": "ce71cba8-631f-4866-a09e-5322712ec7a4",
     "showTitle": false,
     "tableResultSettingsMap": {},
     "title": ""
    }
   },
   "outputs": [],
   "source": [
    "# Perform the join operations\n",
    "Comprehensive_big_table = silver_users \\\n",
    "    .join(silver_countries, [\"country\"], \"outer\") \\\n",
    "    .join(silver_buyers, [\"country\"], \"outer\") \\\n",
    "    .join(silver_sellers, [\"country\"], \"outer\")\n",
    "\n",
    "# Select and alias columns from each dataframe to ensure uniqueness\n",
    "Comprehensive_big_table = Comprehensive_big_table.select(\n",
    "    silver_users[\"country\"].alias(\"Country\"),\n",
    "    silver_users[\"productsSold\"].alias(\"Users_productsSold\"),\n",
    "    silver_users[\"productsWished\"].alias(\"Users_productsWished\"),\n",
    "    silver_users[\"account_age_years\"].alias(\"Users_account_age_years\"),\n",
    "    silver_users[\"account_age_group\"].alias(\"Users_account_age_group\"),\n",
    "    silver_users[\"hasanyapp\"].alias(\"Users_hasanyapp\"),\n",
    "    silver_users[\"socialnbfollowers\"].alias(\"Users_socialnbfollowers\"),\n",
    "    silver_users[\"flag_long_title\"].alias(\"Users_flag_long_title\"),\n",
    "    \n",
    "    silver_countries[\"sellers\"].alias(\"Countries_Sellers\"),\n",
    "    silver_countries[\"topsellers\"].alias(\"Countries_TopSellers\"),\n",
    "    silver_countries[\"femalesellers\"].alias(\"Countries_FemaleSellers\"),\n",
    "    silver_countries[\"malesellers\"].alias(\"Countries_MaleSellers\"),\n",
    "    silver_countries[\"topfemalesellers\"].alias(\"Countries_TopFemaleSellers\"),\n",
    "    silver_countries[\"topmalesellers\"].alias(\"Countries_TopMaleSellers\"),\n",
    "    \n",
    "    silver_buyers[\"buyers\"].alias(\"Buyers_Total\"),\n",
    "    silver_buyers[\"topbuyers\"].alias(\"Buyers_Top\"),\n",
    "    silver_buyers[\"femalebuyers\"].alias(\"Buyers_Female\"),\n",
    "    silver_buyers[\"malebuyers\"].alias(\"Buyers_Male\"),\n",
    "    silver_buyers[\"topfemalebuyers\"].alias(\"Buyers_TopFemale\"),\n",
    "    silver_buyers[\"topmalebuyers\"].alias(\"Buyers_TopMale\"),\n",
    "    \n",
    "    silver_sellers[\"nbsellers\"].alias(\"Sellers_Total\"),\n",
    "    silver_sellers[\"sex\"].alias(\"Sellers_Sex\"),\n",
    "    silver_sellers[\"meanproductssold\"].alias(\"Sellers_MeanProductsSold\"),\n",
    "    silver_sellers[\"meanproductslisted\"].alias(\"Sellers_MeanProductsListed\")\n",
    ")\n"
   ]
  },
  {
   "cell_type": "code",
   "execution_count": 0,
   "metadata": {
    "application/vnd.databricks.v1+cell": {
     "cellMetadata": {
      "byteLimit": 2048000,
      "rowLimit": 10000
     },
     "inputWidgets": {},
     "nuid": "1ae0efbf-0b81-471f-85b9-4cf4592dc0f8",
     "showTitle": false,
     "tableResultSettingsMap": {},
     "title": ""
    }
   },
   "outputs": [
    {
     "output_type": "stream",
     "name": "stdout",
     "output_type": "stream",
     "text": [
      "+---------+------------------+--------------------+-----------------------+-----------------------+---------------+-----------------------+---------------------+-----------------+--------------------+-----------------------+---------------------+--------------------------+------------------------+------------+----------+-------------+-----------+----------------+--------------+-------------+-----------+------------------------+--------------------------+\n|  Country|Users_productsSold|Users_productsWished|Users_account_age_years|Users_account_age_group|Users_hasanyapp|Users_socialnbfollowers|Users_flag_long_title|Countries_Sellers|Countries_TopSellers|Countries_FemaleSellers|Countries_MaleSellers|Countries_TopFemaleSellers|Countries_TopMaleSellers|Buyers_Total|Buyers_Top|Buyers_Female|Buyers_Male|Buyers_TopFemale|Buyers_TopMale|Sellers_Total|Sellers_Sex|Sellers_MeanProductsSold|Sellers_MeanProductsListed|\n+---------+------------------+--------------------+-----------------------+-----------------------+---------------+-----------------------+---------------------+-----------------+--------------------+-----------------------+---------------------+--------------------------+------------------------+------------+----------+-------------+-----------+----------------+--------------+-------------+-----------+------------------------+--------------------------+\n|Singapour|                 0|                   2|                   8.78|            Experienced|          false|                      4|                false|             NULL|                NULL|                   NULL|                 NULL|                      NULL|                    NULL|          16|         1|           12|          4|               0|             1|            5|     FEMALE|                    2.20|                      1.60|\n|Singapour|                 0|                   0|                   8.78|            Experienced|          false|                      3|                false|             NULL|                NULL|                   NULL|                 NULL|                      NULL|                    NULL|          16|         1|           12|          4|               0|             1|            5|     FEMALE|                    2.20|                      1.60|\n|Singapour|                 0|                   0|                   8.78|            Experienced|          false|                      3|                false|             NULL|                NULL|                   NULL|                 NULL|                      NULL|                    NULL|          16|         1|           12|          4|               0|             1|            5|     FEMALE|                    2.20|                      1.60|\n|Singapour|                 0|                   0|                   8.78|            Experienced|          false|                      3|                false|             NULL|                NULL|                   NULL|                 NULL|                      NULL|                    NULL|          16|         1|           12|          4|               0|             1|            5|     FEMALE|                    2.20|                      1.60|\n|Singapour|                 0|                   0|                   8.78|            Experienced|          false|                      3|                false|             NULL|                NULL|                   NULL|                 NULL|                      NULL|                    NULL|          16|         1|           12|          4|               0|             1|            5|     FEMALE|                    2.20|                      1.60|\n|Singapour|                 0|                   0|                   8.78|            Experienced|          false|                      3|                false|             NULL|                NULL|                   NULL|                 NULL|                      NULL|                    NULL|          16|         1|           12|          4|               0|             1|            5|     FEMALE|                    2.20|                      1.60|\n|Singapour|                 0|                   0|                   8.78|            Experienced|          false|                      3|                false|             NULL|                NULL|                   NULL|                 NULL|                      NULL|                    NULL|          16|         1|           12|          4|               0|             1|            5|     FEMALE|                    2.20|                      1.60|\n|Singapour|                 0|                   0|                   8.78|            Experienced|           true|                      3|                false|             NULL|                NULL|                   NULL|                 NULL|                      NULL|                    NULL|          16|         1|           12|          4|               0|             1|            5|     FEMALE|                    2.20|                      1.60|\n|Singapour|                 0|                   0|                   8.78|            Experienced|          false|                      3|                false|             NULL|                NULL|                   NULL|                 NULL|                      NULL|                    NULL|          16|         1|           12|          4|               0|             1|            5|     FEMALE|                    2.20|                      1.60|\n|Singapour|                 0|                   0|                   8.78|            Experienced|          false|                      3|                false|             NULL|                NULL|                   NULL|                 NULL|                      NULL|                    NULL|          16|         1|           12|          4|               0|             1|            5|     FEMALE|                    2.20|                      1.60|\n|Singapour|                 0|                   0|                   8.78|            Experienced|          false|                      3|                false|             NULL|                NULL|                   NULL|                 NULL|                      NULL|                    NULL|          16|         1|           12|          4|               0|             1|            5|     FEMALE|                    2.20|                      1.60|\n|Singapour|                 0|                   0|                   8.78|            Experienced|          false|                      3|                false|             NULL|                NULL|                   NULL|                 NULL|                      NULL|                    NULL|          16|         1|           12|          4|               0|             1|            5|     FEMALE|                    2.20|                      1.60|\n|Singapour|                 0|                   0|                   8.78|            Experienced|          false|                      4|                false|             NULL|                NULL|                   NULL|                 NULL|                      NULL|                    NULL|          16|         1|           12|          4|               0|             1|            5|     FEMALE|                    2.20|                      1.60|\n|Singapour|                 0|                   0|                   8.78|            Experienced|          false|                      3|                false|             NULL|                NULL|                   NULL|                 NULL|                      NULL|                    NULL|          16|         1|           12|          4|               0|             1|            5|     FEMALE|                    2.20|                      1.60|\n|Singapour|                 0|                   0|                   8.78|            Experienced|          false|                      4|                false|             NULL|                NULL|                   NULL|                 NULL|                      NULL|                    NULL|          16|         1|           12|          4|               0|             1|            5|     FEMALE|                    2.20|                      1.60|\n|Singapour|                 0|                   0|                   8.78|            Experienced|          false|                      3|                false|             NULL|                NULL|                   NULL|                 NULL|                      NULL|                    NULL|          16|         1|           12|          4|               0|             1|            5|     FEMALE|                    2.20|                      1.60|\n|Singapour|                 0|                   0|                   8.78|            Experienced|          false|                      3|                false|             NULL|                NULL|                   NULL|                 NULL|                      NULL|                    NULL|          16|         1|           12|          4|               0|             1|            5|     FEMALE|                    2.20|                      1.60|\n|Singapour|                 0|                   0|                   8.77|            Experienced|          false|                      3|                false|             NULL|                NULL|                   NULL|                 NULL|                      NULL|                    NULL|          16|         1|           12|          4|               0|             1|            5|     FEMALE|                    2.20|                      1.60|\n|Singapour|                 0|                   0|                   8.77|            Experienced|          false|                      3|                false|             NULL|                NULL|                   NULL|                 NULL|                      NULL|                    NULL|          16|         1|           12|          4|               0|             1|            5|     FEMALE|                    2.20|                      1.60|\n|Singapour|                 0|                   0|                   8.77|            Experienced|          false|                      3|                false|             NULL|                NULL|                   NULL|                 NULL|                      NULL|                    NULL|          16|         1|           12|          4|               0|             1|            5|     FEMALE|                    2.20|                      1.60|\n+---------+------------------+--------------------+-----------------------+-----------------------+---------------+-----------------------+---------------------+-----------------+--------------------+-----------------------+---------------------+--------------------------+------------------------+------------+----------+-------------+-----------+----------------+--------------+-------------+-----------+------------------------+--------------------------+\nonly showing top 20 rows\n\n"
     ]
    }
   ],
   "source": [
    "Comprehensive_big_table.show()"
   ]
  },
  {
   "cell_type": "code",
   "execution_count": 0,
   "metadata": {
    "application/vnd.databricks.v1+cell": {
     "cellMetadata": {
      "byteLimit": 2048000,
      "rowLimit": 10000
     },
     "inputWidgets": {},
     "nuid": "ff95b155-6f0f-4a43-9e0c-dd5be4b87127",
     "showTitle": false,
     "tableResultSettingsMap": {},
     "title": ""
    }
   },
   "outputs": [],
   "source": [
    "Comprehensive_big_table.write.format(\"delta\").mode(\"overwrite\").save(\"/mnt/delta/tables/gold/ecom_one_big_table\")\n"
   ]
  },
  {
   "cell_type": "code",
   "execution_count": 0,
   "metadata": {
    "application/vnd.databricks.v1+cell": {
     "cellMetadata": {},
     "inputWidgets": {},
     "nuid": "6eaadf24-26eb-4050-aabb-b2523ad2b606",
     "showTitle": false,
     "tableResultSettingsMap": {},
     "title": ""
    }
   },
   "outputs": [],
   "source": []
  }
 ],
 "metadata": {
  "application/vnd.databricks.v1+notebook": {
   "computePreferences": null,
   "dashboards": [],
   "environmentMetadata": {
    "base_environment": "",
    "client": "1"
   },
   "language": "python",
   "notebookMetadata": {
    "pythonIndentUnit": 4
   },
   "notebookName": "Gold_layer",
   "widgets": {}
  },
  "language_info": {
   "name": "python"
  }
 },
 "nbformat": 4,
 "nbformat_minor": 0
}